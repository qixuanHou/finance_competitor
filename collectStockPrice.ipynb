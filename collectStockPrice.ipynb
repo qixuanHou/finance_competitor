{
 "cells": [
  {
   "cell_type": "code",
   "execution_count": 13,
   "metadata": {},
   "outputs": [],
   "source": [
    "import requests\n",
    "import datetime\n",
    "import json\n",
    "import pandas as pd\n",
    "import matplotlib.pyplot as plt\n",
    "from pandas.plotting import register_matplotlib_converters\n",
    "register_matplotlib_converters()\n",
    "import nltk\n",
    "from nltk.tokenize import word_tokenize\n",
    "from nltk.tag import pos_tag\n",
    "sample_text = \"\"\"Competition\n",
    "The pharmaceutical and biotechnology industries are characterized by rapidly advancing technologies, intense\n",
    "competition and a strong emphasis on proprietary drugs. While we believe that our technology, development experience and\n",
    "scientific knowledge provide us with competitive advantages, we face potential competition from many different sources,\n",
    "including major pharmaceutical, specialty pharmaceutical and biotechnology companies, academic institutions and\n",
    "governmental agencies and public and private research institutions. Any drug candidates that we successfully develop and\n",
    "commercialize will compete with existing drugs and new drugs that may become available in the future.\n",
    "We compete in the segments of the pharmaceutical, biotechnology and other related markets that address inhibition\n",
    "of kinases in cancer and other rare genetic diseases. There are other companies working to develop therapies in the field of\n",
    "kinase inhibition for cancer and other diseases. These companies include divisions of large pharmaceutical companies and\n",
    "biotechnology companies of various sizes.\n",
    "Many of the companies against which we are competing or against which we may compete in the future have\n",
    "significantly greater financial resources and expertise in research and development, manufacturing, pre-clinical testing,\n",
    "acquisitions in the pharmaceutical, biotechnology and diagnostic industries may result in even more resources being\n",
    "concentrated among a smaller number of our competitors. Smaller or early stage companies may also prove to be significant\n",
    "competitors, particularly through collaborative arrangements with large and established companies. These competitors also\n",
    "compete with us in recruiting and retaining qualified scientific and management personnel and establishing clinical trial\n",
    "sites and patient registration for clinical trials, as well as in acquiring technologies complementary to, or necessary for, our\n",
    "programs.\n",
    "Our commercial opportunity could be reduced or eliminated if our competitors develop and commercialize drugs\n",
    "that are safer, more effective, have fewer or less severe side effects, are more convenient or are less expensive than any drugs\n",
    "that we or our collaborators may develop. Our competitors also may obtain FDA or other regulatory approval for their drugs\n",
    "more rapidly than we may obtain approval for ours, which could result in our competitors establishing a strong market\n",
    "position before we or our collaborators are able to enter the market. The key competitive factors affecting the success of all of\n",
    "our drug candidates, if approved, are likely to be their efficacy, safety, convenience, price, the effectiveness of companion\n",
    "diagnostic tests in guiding the use of related therapeutics, the level of generic competition and the availability of\n",
    "reimbursement from government and other third‑party payors.\n",
    "If our drug candidates are approved for the indications for which we are currently conducting or planning clinical\n",
    "trials, they will compete with the drugs discussed below and will likely compete with other drugs that are currently in\n",
    "development.\n",
    "avapritinib\n",
    "We are initially developing avapritinib for advanced GIST and for SM, including advanced SM and indolent and\n",
    "smoldering SM. If avapritinib receives marketing approval for advanced SM, it will face competition from Novartis AG’s\n",
    "midostaurin, a multi-kinase inhibitor with KIT D816V inhibitory activity that was approved in April 2017 by the FDA for the\n",
    "treatment of advanced SM. If avapritinib receives marketing approval for third line advanced GIST, it will face competition\n",
    "from Bayer AG’s regorafenib, and if avapritinib receives marketing approval for second line advanced GIST, it will face\n",
    "competition from Pfizer Inc.’s sunitinib. In addition, if avapritinib receives marketing approval for advanced SM, GIST\n",
    "and/or for GIST patients with the PDGFRA D842V mutation, it may face competition from other drug candidates in\n",
    "development for these indications, including drug candidates in development by AB Science S.A., Allakos Inc., ARIAD\n",
    "Pharmaceuticals, Inc., a wholly-owned subsidiary of Takeda Pharmaceutical Company Limited, AROG Pharmaceuticals, Inc.,\n",
    "Celldex Therapeutics, Inc., and Deciphera Pharmaceuticals, LLC.\n",
    "BLU‑667\n",
    "We are initially developing BLU‑667 for patients with RET-altered NSCLC, MTC and other advanced solid tumors.\n",
    "If BLU‑667 receives marketing approval for patients with RET-driven cancers, it may face competition from other drug\n",
    "candidates in development, including drug candidates in development by ARIAD Pharmaceuticals, Inc., a wholly-owned\n",
    "subsidiary of Takeda Pharmaceutical Company Limited, AstraZeneca plc, Boston Pharmaceuticals, Inc., Eisai Inc., Exelixis,\n",
    "Inc., GlaxoSmithKline plc, Loxo Oncology, Inc., a wholly-owned subsidiary of Eli Lilly and Company, Mirati Therapeutics,\n",
    "Inc., Novartis AG, Pfizer Inc. and Roche, as well as several approved multi-kinase inhibitors with RET activity being\n",
    "evaluated in clinical trials, including alectinib, apatinib, cabozantinib, dovitinib, lenvatinib, ponatinib, sorafenib, sunitinib\n",
    "and vandetinib.\n",
    "BLU‑554\n",
    "We are initially developing BLU‑554 for patients with advanced HCC driven by FGFR4. If BLU-554 receives\n",
    "marketing approval for patients with FGFR4-activated HCC, it will face competition from Bristol-Myers Squibb Company’s\n",
    "nivolumab and Merck & Co., Inc.’s pembrolizumab, immune checkpoint inhibitors approved by the FDA for the treatment of\n",
    "HCC, as well as sorafenib, cabozantinib, regorafenib and lenvatinib, multi-kinase inhibitors approved for the treatment of\n",
    "HCC. In addition, BLU-554 may face competition from other drug candidates in development by Abbisko Therapeutics Co.,\n",
    "Ltd, AstraZeneca plc, Bayer AG, Celgene Corporation, Eisai Inc., H3 Biomedicine Inc., Incyte Corporation, Johnson &\n",
    "Johnson, Novartis AG, Sanofi S.A., Taiho Pharmaceutical Co., Ltd., U3 Pharma GmbH, a wholly-owned subsidiary of Daiichi\n",
    "Sankyo Company, Limited, and Xoma Ltd.\n",
    "BLU‑782\n",
    "We are initially developing BLU‑782 for patients with FOP. If BLU-782 receives marketing approval for FOP, it may\n",
    "face competition from drug candidates in development by BioCryst Pharmaceuticals, Inc., Clementia Pharmaceuticals Inc.,\n",
    "La Jolla Pharmaceutical Company and Regeneron Pharmaceuticals, Inc.\n",
    " \"\"\""
   ]
  },
  {
   "cell_type": "code",
   "execution_count": 14,
   "metadata": {},
   "outputs": [],
   "source": [
    "# helper function\n",
    "def _convert_epoch_to_datetime(epoch_seconds):\n",
    "    epoch = datetime.datetime(1970, 1, 1)\n",
    "    dt = epoch + datetime.timedelta(seconds=epoch_seconds)\n",
    "    return dt.replace(hour=0, minute=0, second=0, microsecond=0)\n",
    "\n",
    "\n",
    "def _convert_datetime_to_epoch(start):\n",
    "    dt = pd.to_datetime(start)\n",
    "    epoch = datetime.datetime(1970, 1, 1)\n",
    "    return int((dt - epoch).total_seconds())"
   ]
  },
  {
   "cell_type": "code",
   "execution_count": 24,
   "metadata": {},
   "outputs": [],
   "source": [
    "def get_historical_prices(ticker=None, start_date=datetime.datetime(2010, 1, 1), end_date=datetime.datetime.now()):\n",
    "    # convert datetimes to epoch\n",
    "    dstart_secs = _convert_datetime_to_epoch(start_date)\n",
    "    dend_secs = _convert_datetime_to_epoch(end_date)\n",
    "\n",
    "    # set url for yahoo finance with filled in parameters\n",
    "    url = \"https://finance.yahoo.com/quote/{0}/history?period1={1}&period2={2}&interval=1d&filter=history&frequency=1d\".format(\n",
    "        ticker, dstart_secs, dend_secs)\n",
    "    response = requests.get(url).content\n",
    "\n",
    "    # find the json object in the response, format it, and load it\n",
    "    index_s = response.find(\"HistoricalPriceStore\".encode())\n",
    "    index_e = response.find(\"isPending\".encode(), index_s)\n",
    "\n",
    "    response = response[index_s:index_e]\n",
    "    json_string = response[22:len(response) - 2] + \"}\".encode()\n",
    "\n",
    "    mm = json.loads(json_string)\n",
    "\n",
    "    ticks = []\n",
    "    for row in mm[\"prices\"]:\n",
    "        if \"type\" in row:\n",
    "            continue\n",
    "        else:\n",
    "            ticks.append(row)\n",
    "\n",
    "    df_ticks = pd.DataFrame.from_dict(ticks)\n",
    "    df_ticks[\"date\"] = df_ticks[\"date\"].apply(lambda x: _convert_epoch_to_datetime(x))\n",
    "\n",
    "    return df_ticks"
   ]
  },
  {
   "cell_type": "code",
   "execution_count": 16,
   "metadata": {},
   "outputs": [],
   "source": [
    "ticker=\"JNJ\"\n",
    "IBM = get_historical_prices(ticker, datetime.datetime(2016,1,1), datetime.datetime(2019,6,1))"
   ]
  },
  {
   "cell_type": "code",
   "execution_count": 17,
   "metadata": {},
   "outputs": [],
   "source": [
    "IBM.head(5)\n",
    "IBM.to_csv(ticker + '.csv')"
   ]
  },
  {
   "cell_type": "code",
   "execution_count": 18,
   "metadata": {},
   "outputs": [
    {
     "data": {
      "text/plain": [
       "[<matplotlib.lines.Line2D at 0x128efd518>]"
      ]
     },
     "execution_count": 18,
     "metadata": {},
     "output_type": "execute_result"
    },
    {
     "data": {
      "image/png": "[encoded data removed]",
      "text/plain": [
       "<Figure size 432x288 with 1 Axes>"
      ]
     },
     "metadata": {
      "needs_background": "light"
     },
     "output_type": "display_data"
    }
   ],
   "source": [
    "# draw line charts \n",
    "plt.plot(IBM[\"date\"], IBM[\"close\"])"
   ]
  },
  {
   "cell_type": "code",
   "execution_count": 25,
   "metadata": {},
   "outputs": [],
   "source": [
    "# read all companies and retrieve stock\n",
    "f = open(\"ticker_name.csv\", \"r\")\n",
    "f.readline()\n",
    "ls = f.readlines()\n",
    "for l in ls[520:]:\n",
    "    try:\n",
    "        ticker = l.split(\",\")[0]\n",
    "        stock = get_historical_prices(ticker, datetime.datetime(2016,1,1), datetime.datetime(2019,6,1))\n",
    "        stock.to_csv(ticker + '.csv')\n",
    "    except:\n",
    "        pass"
   ]
  },
  {
   "cell_type": "code",
   "execution_count": null,
   "metadata": {},
   "outputs": [],
   "source": [
    "# return ticker\n",
    "def get_ticker_by_compnayname(companyname):\n",
    "\n",
    "    # set url for yahoo finance with filled in parameters\n",
    "    url = \"https://query2.finance.yahoo.com/v1/finance/search?q=%s&quotesCount=6&newsCount=0\"%companyname\n",
    "    response = requests.get(url).content\n",
    "    try:\n",
    "        return json.loads(response)[\"quotes\"][0][\"symbol\"]\n",
    "    except:\n",
    "        return \"not found\""
   ]
  },
  {
   "cell_type": "code",
   "execution_count": null,
   "metadata": {},
   "outputs": [],
   "source": [
    "ticker = get_ticker_by_compnayname(\"AB Science S.A.\")\n",
    "print(\"ticker of AB Science S.A. is %s\"%(ticker))"
   ]
  },
  {
   "cell_type": "code",
   "execution_count": null,
   "metadata": {},
   "outputs": [],
   "source": [
    "# BPMC\n",
    "plt.figure(figsize=(20,10))\n",
    "BPMC = get_historical_prices(\"BPMC\", datetime.datetime(2017,1,1), datetime.datetime(2019,1,1))\n",
    "plt.plot(BPMC[\"date\"], BPMC[\"close\"], label=\"BPMC\")\n",
    "competitors = [\"AB Science S.A.\", \"Allakos Inc.\", \"ARIAD Pharmaceuticals, Inc.\", \"AROG Pharmaceuticals, Inc.\", \"Deciphera Pharmaceuticals, LLC.\", \"Celldex Therapeutics, Inc.\", \"Takeda Pharmaceutical Company Limited\"\n",
    "               \"AstraZeneca plc\", \"Boston Pharmaceuticals, Inc.\", \"Eisai Inc.\", \"Exelixis, Inc.\", \"GlaxoSmithKline plc\", \"Loxo Oncology, Inc.\", \"a wholly-owned subsidiary of Eli Lilly and Company\", \n",
    "               \"Mirati Therapeutics, Inc.\", \"Novartis AG, Pfizer Inc.\", \"Bristol-Myers Squibb Company\", \"nivolumab and Merck & Co., Inc.\", \"Incyte Corporation, Johnson & Johnson\",\n",
    "               \"Abbisko Therapeutics Co.\", \"Ltd, AstraZeneca plc\", \"Bayer AG\", \"Celgene Corporation\", \"Eisai Inc.\", \"H3 Biomedicine Inc.\", \n",
    "              ]\n",
    "\n",
    "    \n",
    "for com in competitors:\n",
    "    ticker = get_ticker_by_compnayname(com)\n",
    "    print(\"%s\\t%s\\n\"%(ticker, com))\n",
    "    if (ticker != \"not found\"):\n",
    "        stock = get_historical_prices(ticker, datetime.datetime(2017,1,1), datetime.datetime(2019,1,1))\n",
    "        plt.plot(stock[\"date\"], stock[\"close\"], label=ticker)\n",
    "\n",
    "plt.legend(loc='upper right')\n"
   ]
  },
  {
   "cell_type": "code",
   "execution_count": null,
   "metadata": {},
   "outputs": [],
   "source": [
    "# CLDX \n",
    "plt.figure(figsize=(20,10))\n",
    "CLDX = get_historical_prices(\"CLDX\", datetime.datetime(2017,1,1), datetime.datetime(2019,1,1))\n",
    "plt.plot(BPMC[\"date\"], BPMC[\"close\"], label=\"CLDX\")\n",
    "competitors = [\"AbbVie\", \"Astellas\", \"AstraZeneca\", \"Bristol-Myers Squibb\", \"Immunomedics\", \"Merck\", \"Nektar Therapeutics\", \"Novartis\", \"Pfizer\", \"Roche\", \"Tesaro\"]\n",
    "\n",
    "    \n",
    "for com in competitors:\n",
    "    ticker = get_ticker_by_compnayname(com)\n",
    "    print(\"%s\\t%s\\n\"%(ticker, com))\n",
    "    if (ticker != \"not found\"):\n",
    "        stock = get_historical_prices(ticker, datetime.datetime(2017,1,1), datetime.datetime(2019,1,1))\n",
    "        plt.plot(stock[\"date\"], stock[\"close\"], label=ticker)\n",
    "\n",
    "plt.legend(loc='upper right')\n",
    "\n"
   ]
  },
  {
   "cell_type": "code",
   "execution_count": 22,
   "metadata": {},
   "outputs": [
    {
     "name": "stdout",
     "output_type": "stream",
     "text": [
      "['FDA', 'GIST', 'SM', 'KIT', 'FDA', 'GIST', 'GIST', 'Pfizer', 'GIST', 'GIST', 'PDGFRA', 'AB', 'ARIAD', 'AROG', 'LLC', 'MTC', 'ARIAD', 'AstraZeneca', 'GlaxoSmithKline', 'Company', 'RET', 'HCC', 'FGFR4', 'Merck', 'FDA', 'HCC', 'HCC', 'AstraZeneca', 'FOP', 'FOP', 'BioCryst']\n"
     ]
    }
   ],
   "source": [
    "def NERTag(text):\n",
    "        tokens = nltk.word_tokenize(text)\n",
    "        tagged = nltk.pos_tag(tokens)\n",
    "        entities = nltk.chunk.ne_chunk(tagged)\n",
    "        dic = {}\n",
    "        entityTypes = ['PERSON', 'FAC', 'ORG', 'GPE', 'LOC', 'PRODUCT', 'WORK_OF_ART', 'EVENT']\n",
    "        dic['ORG'] = []\n",
    "\n",
    "        for e in entities:\n",
    "            if 'ORG' in str(e):\n",
    "                dic['ORG'] = dic['ORG'] + [str(e).split(' ')[1].split('/')[0],]\n",
    "\n",
    "        print(dic['ORG'])\n",
    "\n",
    "NERTag(sample_text)"
   ]
  },
  {
   "cell_type": "markdown",
   "metadata": {},
   "source": [
    "entity types\n",
    "\n",
    "-------------------------------------\n",
    "PERSON\tPeople, including fictional.\n",
    "FAC\tBuildings, airports, highways, bridges, etc.\n",
    "ORG\tCompanies, agencies, institutions, etc.\n",
    "GPE\tCountries, cities, states.\n",
    "LOC\tNon-GPE locations, mountain ranges, bodies of water.\n",
    "PRODUCT\tObjects, vehicles, foods, etc. (Not services.)\n",
    "EVENT\tNamed hurricanes, battles, wars, sports events, etc.\n",
    "WORK_OF_ART\tTitles of books, songs, etc."
   ]
  },
  {
   "cell_type": "markdown",
   "metadata": {},
   "source": [
    "text razor\n",
    "https://www.textrazor.com/demo\n",
    "\n",
    "build NER with Python\n",
    "https://github.com/susanli2016/NLP-with-Python/blob/master/NER_sklearn.ipynb\n",
    "\n",
    "train your won NER model\n",
    "https://medium.com/swlh/stanford-corenlp-training-your-own-custom-ner-tagger-8119cc7dfc06"
   ]
  },
  {
   "cell_type": "code",
   "execution_count": null,
   "metadata": {},
   "outputs": [],
   "source": []
  }
 ],
 "metadata": {
  "kernelspec": {
   "display_name": "Python 3",
   "language": "python",
   "name": "python3"
  },
  "language_info": {
   "codemirror_mode": {
    "name": "ipython",
    "version": 3
   },
   "file_extension": ".py",
   "mimetype": "text/x-python",
   "name": "python",
   "nbconvert_exporter": "python",
   "pygments_lexer": "ipython3",
   "version": "3.7.0"
  }
 },
 "nbformat": 4,
 "nbformat_minor": 1
}
